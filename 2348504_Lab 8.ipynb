{
  "cells": [
    {
      "cell_type": "markdown",
      "metadata": {
        "id": "view-in-github",
        "colab_type": "text"
      },
      "source": [
        "<a href=\"https://colab.research.google.com/github/anushChrist/DL_Lab/blob/main/Lab8_2348504.ipynb\" target=\"_parent\"><img src=\"https://colab.research.google.com/assets/colab-badge.svg\" alt=\"Open In Colab\"/></a>"
      ]
    },
    {
      "cell_type": "code",
      "execution_count": 12,
      "id": "61c713d1-175f-40c7-896f-58ae69528cda",
      "metadata": {
        "id": "61c713d1-175f-40c7-896f-58ae69528cda"
      },
      "outputs": [],
      "source": [
        "import cv2\n",
        "import matplotlib.pyplot as plt\n",
        "import torch\n",
        "import numpy as np"
      ]
    },
    {
      "cell_type": "code",
      "execution_count": 13,
      "id": "891698a4-716c-4fdb-a601-0aa7bdfcf714",
      "metadata": {
        "colab": {
          "base_uri": "https://localhost:8080/"
        },
        "id": "891698a4-716c-4fdb-a601-0aa7bdfcf714",
        "outputId": "6fb4eea5-7c7d-42ae-e79e-94949b23c335"
      },
      "outputs": [
        {
          "output_type": "stream",
          "name": "stderr",
          "text": [
            "Using cache found in /root/.cache/torch/hub/ultralytics_yolov5_master\n",
            "YOLOv5 🚀 2024-4-12 Python-3.10.12 torch-2.2.1+cu121 CPU\n",
            "\n",
            "Fusing layers... \n",
            "YOLOv5s summary: 213 layers, 7225885 parameters, 0 gradients, 16.4 GFLOPs\n",
            "Adding AutoShape... \n"
          ]
        }
      ],
      "source": [
        "model = torch.hub.load('ultralytics/yolov5', 'yolov5s', pretrained=True)\n"
      ]
    },
    {
      "cell_type": "code",
      "execution_count": 14,
      "id": "dad36eb9-ad03-4cb6-82f1-ef86ec1bb988",
      "metadata": {
        "id": "dad36eb9-ad03-4cb6-82f1-ef86ec1bb988"
      },
      "outputs": [],
      "source": [
        "img = cv2.imread('horse.jpg')"
      ]
    },
    {
      "cell_type": "code",
      "execution_count": 15,
      "id": "543e8497",
      "metadata": {
        "id": "543e8497"
      },
      "outputs": [],
      "source": [
        "plt.imshow(img);"
      ]
    },
    {
      "cell_type": "code",
      "execution_count": 16,
      "id": "07da0e5e",
      "metadata": {
        "colab": {
          "base_uri": "https://localhost:8080/"
        },
        "id": "07da0e5e",
        "outputId": "d240c011-ed16-4a4a-b69a-98ed701296ed"
      },
      "outputs": [
        {
          "output_type": "stream",
          "name": "stderr",
          "text": [
            "image 1/1: 408x612 1 person, 1 horse\n",
            "Speed: 16.4ms pre-process, 310.3ms inference, 6.1ms NMS per image at shape (1, 3, 448, 640)\n"
          ]
        }
      ],
      "source": [
        "results = model(img)\n",
        "results.print()"
      ]
    },
    {
      "cell_type": "code",
      "execution_count": 17,
      "id": "41b140db",
      "metadata": {
        "id": "41b140db"
      },
      "outputs": [],
      "source": [
        "output_img = img.copy()"
      ]
    },
    {
      "cell_type": "code",
      "execution_count": 18,
      "id": "fd491fa0",
      "metadata": {
        "id": "fd491fa0"
      },
      "outputs": [],
      "source": [
        "for *xyxy, conf, cls in results.xyxy[0]:\n",
        "    label = f'{results.names[int(cls)]} {conf:.2f}'\n",
        "    cv2.rectangle(output_img, (int(xyxy[0]), int(xyxy[1])), (int(xyxy[2]), int(xyxy[3])), (255, 0, 255), 2)\n",
        "    cv2.putText(output_img, label, (int(xyxy[0]), int(xyxy[1]-10)), cv2.FONT_HERSHEY_SIMPLEX, 0.5, (255, 255, 255), 2)\n"
      ]
    },
    {
      "cell_type": "code",
      "execution_count": 19,
      "id": "da9fc5a2",
      "metadata": {
        "id": "da9fc5a2"
      },
      "outputs": [],
      "source": [
        "output_img_rgb = cv2.cvtColor(output_img, cv2.COLOR_BGR2RGB)\n",
        "\n",
        "plt.figure(figsize=(10, 10))\n",
        "plt.imshow(output_img_rgb)\n",
        "plt.axis('off')\n",
        "plt.show()"
      ]
    }
  ],
  "metadata": {
    "kernelspec": {
      "display_name": "Python 3 (ipykernel)",
      "language": "python",
      "name": "python3"
    },
    "language_info": {
      "codemirror_mode": {
        "name": "ipython",
        "version": 3
      },
      "file_extension": ".py",
      "mimetype": "text/x-python",
      "name": "python",
      "nbconvert_exporter": "python",
      "pygments_lexer": "ipython3",
      "version": "3.11.8"
    },
    "colab": {
      "provenance": [],
      "include_colab_link": true
    }
  },
  "nbformat": 4,
  "nbformat_minor": 5
}
